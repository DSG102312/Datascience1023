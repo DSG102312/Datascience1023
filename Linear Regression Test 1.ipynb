{
 "cells": [
  {
   "cell_type": "code",
   "execution_count": 1,
   "id": "b97163b3",
   "metadata": {},
   "outputs": [],
   "source": [
    "import pandas as pd\n",
    "import matplotlib.pyplot as plt\n",
    "%matplotlib inline"
   ]
  },
  {
   "cell_type": "code",
   "execution_count": 2,
   "id": "802ccdf3",
   "metadata": {},
   "outputs": [],
   "source": [
    "data= pd.read_csv('https://raw.githubusercontent.com/training-ml/Task/main/Test_Sales_LinReg.csv')"
   ]
  },
  {
   "cell_type": "code",
   "execution_count": 3,
   "id": "407b48e5",
   "metadata": {},
   "outputs": [
    {
     "data": {
      "text/html": [
       "<div>\n",
       "<style scoped>\n",
       "    .dataframe tbody tr th:only-of-type {\n",
       "        vertical-align: middle;\n",
       "    }\n",
       "\n",
       "    .dataframe tbody tr th {\n",
       "        vertical-align: top;\n",
       "    }\n",
       "\n",
       "    .dataframe thead th {\n",
       "        text-align: right;\n",
       "    }\n",
       "</style>\n",
       "<table border=\"1\" class=\"dataframe\">\n",
       "  <thead>\n",
       "    <tr style=\"text-align: right;\">\n",
       "      <th></th>\n",
       "      <th>Republic</th>\n",
       "      <th>NDTV</th>\n",
       "      <th>TV5</th>\n",
       "      <th>TV9</th>\n",
       "      <th>AajTak</th>\n",
       "      <th>sales</th>\n",
       "    </tr>\n",
       "  </thead>\n",
       "  <tbody>\n",
       "    <tr>\n",
       "      <th>0</th>\n",
       "      <td>8.7</td>\n",
       "      <td>48.9</td>\n",
       "      <td>4.0</td>\n",
       "      <td>75.0</td>\n",
       "      <td>49.0</td>\n",
       "      <td>7.2</td>\n",
       "    </tr>\n",
       "    <tr>\n",
       "      <th>1</th>\n",
       "      <td>57.5</td>\n",
       "      <td>32.8</td>\n",
       "      <td>65.9</td>\n",
       "      <td>23.5</td>\n",
       "      <td>57.5</td>\n",
       "      <td>11.8</td>\n",
       "    </tr>\n",
       "    <tr>\n",
       "      <th>2</th>\n",
       "      <td>120.2</td>\n",
       "      <td>19.6</td>\n",
       "      <td>7.2</td>\n",
       "      <td>11.6</td>\n",
       "      <td>18.5</td>\n",
       "      <td>13.2</td>\n",
       "    </tr>\n",
       "    <tr>\n",
       "      <th>3</th>\n",
       "      <td>8.6</td>\n",
       "      <td>2.1</td>\n",
       "      <td>46.0</td>\n",
       "      <td>1.0</td>\n",
       "      <td>2.6</td>\n",
       "      <td>4.8</td>\n",
       "    </tr>\n",
       "    <tr>\n",
       "      <th>4</th>\n",
       "      <td>199.8</td>\n",
       "      <td>2.6</td>\n",
       "      <td>52.9</td>\n",
       "      <td>21.2</td>\n",
       "      <td>2.9</td>\n",
       "      <td>10.6</td>\n",
       "    </tr>\n",
       "  </tbody>\n",
       "</table>\n",
       "</div>"
      ],
      "text/plain": [
       "   Republic  NDTV   TV5   TV9  AajTak  sales\n",
       "0       8.7  48.9   4.0  75.0    49.0    7.2\n",
       "1      57.5  32.8  65.9  23.5    57.5   11.8\n",
       "2     120.2  19.6   7.2  11.6    18.5   13.2\n",
       "3       8.6   2.1  46.0   1.0     2.6    4.8\n",
       "4     199.8   2.6  52.9  21.2     2.9   10.6"
      ]
     },
     "execution_count": 3,
     "metadata": {},
     "output_type": "execute_result"
    }
   ],
   "source": [
    "data.head()"
   ]
  },
  {
   "cell_type": "code",
   "execution_count": 4,
   "id": "233f4623",
   "metadata": {},
   "outputs": [
    {
     "data": {
      "text/plain": [
       "(305, 6)"
      ]
     },
     "execution_count": 4,
     "metadata": {},
     "output_type": "execute_result"
    }
   ],
   "source": [
    "data.shape"
   ]
  },
  {
   "cell_type": "code",
   "execution_count": 5,
   "id": "e0b0b638",
   "metadata": {},
   "outputs": [
    {
     "name": "stdout",
     "output_type": "stream",
     "text": [
      "<class 'pandas.core.frame.DataFrame'>\n",
      "RangeIndex: 305 entries, 0 to 304\n",
      "Data columns (total 6 columns):\n",
      " #   Column    Non-Null Count  Dtype  \n",
      "---  ------    --------------  -----  \n",
      " 0   Republic  295 non-null    float64\n",
      " 1   NDTV      300 non-null    float64\n",
      " 2   TV5       305 non-null    float64\n",
      " 3   TV9       297 non-null    float64\n",
      " 4   AajTak    300 non-null    float64\n",
      " 5   sales     305 non-null    float64\n",
      "dtypes: float64(6)\n",
      "memory usage: 14.4 KB\n"
     ]
    }
   ],
   "source": [
    "data.info()"
   ]
  },
  {
   "cell_type": "code",
   "execution_count": 6,
   "id": "e7b9a570",
   "metadata": {},
   "outputs": [
    {
     "data": {
      "text/plain": [
       "Republic    10\n",
       "NDTV         5\n",
       "TV5          0\n",
       "TV9          8\n",
       "AajTak       5\n",
       "sales        0\n",
       "dtype: int64"
      ]
     },
     "execution_count": 6,
     "metadata": {},
     "output_type": "execute_result"
    }
   ],
   "source": [
    "data.isna().sum()"
   ]
  },
  {
   "cell_type": "code",
   "execution_count": 7,
   "id": "ab7527d1",
   "metadata": {},
   "outputs": [],
   "source": [
    "New_data = data.dropna()"
   ]
  },
  {
   "cell_type": "code",
   "execution_count": 8,
   "id": "1469c7a3",
   "metadata": {},
   "outputs": [
    {
     "name": "stdout",
     "output_type": "stream",
     "text": [
      "<class 'pandas.core.frame.DataFrame'>\n",
      "Index: 282 entries, 0 to 304\n",
      "Data columns (total 6 columns):\n",
      " #   Column    Non-Null Count  Dtype  \n",
      "---  ------    --------------  -----  \n",
      " 0   Republic  282 non-null    float64\n",
      " 1   NDTV      282 non-null    float64\n",
      " 2   TV5       282 non-null    float64\n",
      " 3   TV9       282 non-null    float64\n",
      " 4   AajTak    282 non-null    float64\n",
      " 5   sales     282 non-null    float64\n",
      "dtypes: float64(6)\n",
      "memory usage: 15.4 KB\n"
     ]
    }
   ],
   "source": [
    "New_data.info()"
   ]
  },
  {
   "cell_type": "code",
   "execution_count": 9,
   "id": "7ef5a294",
   "metadata": {},
   "outputs": [
    {
     "data": {
      "text/plain": [
       "Republic    0\n",
       "NDTV        0\n",
       "TV5         0\n",
       "TV9         0\n",
       "AajTak      0\n",
       "sales       0\n",
       "dtype: int64"
      ]
     },
     "execution_count": 9,
     "metadata": {},
     "output_type": "execute_result"
    }
   ],
   "source": [
    "New_data.isna().sum()"
   ]
  },
  {
   "cell_type": "code",
   "execution_count": 10,
   "id": "499fece2",
   "metadata": {},
   "outputs": [
    {
     "data": {
      "image/png": "[encoded data removed]",
      "text/plain": [
       "<Figure size 1200x600 with 5 Axes>"
      ]
     },
     "metadata": {},
     "output_type": "display_data"
    }
   ],
   "source": [
    "fig,axs = plt.subplots(1,5)\n",
    "\n",
    "New_data.plot(kind='scatter', x='Republic', y='sales', ax=axs[0], figsize=(12,6))\n",
    "New_data.plot(kind='scatter', x='NDTV', y='sales', ax=axs[1])\n",
    "New_data.plot(kind='scatter', x='TV5', y='sales', ax=axs[2])\n",
    "New_data.plot(kind='scatter', x='TV9', y='sales', ax=axs[3])\n",
    "New_data.plot(kind='scatter', x='AajTak', y='sales', ax=axs[4])\n",
    "fig.savefig('testNew_data.jpg')"
   ]
  },
  {
   "cell_type": "code",
   "execution_count": 34,
   "id": "d264c25d",
   "metadata": {},
   "outputs": [
    {
     "data": {
      "text/html": [
       "<style>#sk-container-id-3 {color: black;}#sk-container-id-3 pre{padding: 0;}#sk-container-id-3 div.sk-toggleable {background-color: white;}#sk-container-id-3 label.sk-toggleable__label {cursor: pointer;display: block;width: 100%;margin-bottom: 0;padding: 0.3em;box-sizing: border-box;text-align: center;}#sk-container-id-3 label.sk-toggleable__label-arrow:before {content: \"▸\";float: left;margin-right: 0.25em;color: #696969;}#sk-container-id-3 label.sk-toggleable__label-arrow:hover:before {color: black;}#sk-container-id-3 div.sk-estimator:hover label.sk-toggleable__label-arrow:before {color: black;}#sk-container-id-3 div.sk-toggleable__content {max-height: 0;max-width: 0;overflow: hidden;text-align: left;background-color: #f0f8ff;}#sk-container-id-3 div.sk-toggleable__content pre {margin: 0.2em;color: black;border-radius: 0.25em;background-color: #f0f8ff;}#sk-container-id-3 input.sk-toggleable__control:checked~div.sk-toggleable__content {max-height: 200px;max-width: 100%;overflow: auto;}#sk-container-id-3 input.sk-toggleable__control:checked~label.sk-toggleable__label-arrow:before {content: \"▾\";}#sk-container-id-3 div.sk-estimator input.sk-toggleable__control:checked~label.sk-toggleable__label {background-color: #d4ebff;}#sk-container-id-3 div.sk-label input.sk-toggleable__control:checked~label.sk-toggleable__label {background-color: #d4ebff;}#sk-container-id-3 input.sk-hidden--visually {border: 0;clip: rect(1px 1px 1px 1px);clip: rect(1px, 1px, 1px, 1px);height: 1px;margin: -1px;overflow: hidden;padding: 0;position: absolute;width: 1px;}#sk-container-id-3 div.sk-estimator {font-family: monospace;background-color: #f0f8ff;border: 1px dotted black;border-radius: 0.25em;box-sizing: border-box;margin-bottom: 0.5em;}#sk-container-id-3 div.sk-estimator:hover {background-color: #d4ebff;}#sk-container-id-3 div.sk-parallel-item::after {content: \"\";width: 100%;border-bottom: 1px solid gray;flex-grow: 1;}#sk-container-id-3 div.sk-label:hover label.sk-toggleable__label {background-color: #d4ebff;}#sk-container-id-3 div.sk-serial::before {content: \"\";position: absolute;border-left: 1px solid gray;box-sizing: border-box;top: 0;bottom: 0;left: 50%;z-index: 0;}#sk-container-id-3 div.sk-serial {display: flex;flex-direction: column;align-items: center;background-color: white;padding-right: 0.2em;padding-left: 0.2em;position: relative;}#sk-container-id-3 div.sk-item {position: relative;z-index: 1;}#sk-container-id-3 div.sk-parallel {display: flex;align-items: stretch;justify-content: center;background-color: white;position: relative;}#sk-container-id-3 div.sk-item::before, #sk-container-id-3 div.sk-parallel-item::before {content: \"\";position: absolute;border-left: 1px solid gray;box-sizing: border-box;top: 0;bottom: 0;left: 50%;z-index: -1;}#sk-container-id-3 div.sk-parallel-item {display: flex;flex-direction: column;z-index: 1;position: relative;background-color: white;}#sk-container-id-3 div.sk-parallel-item:first-child::after {align-self: flex-end;width: 50%;}#sk-container-id-3 div.sk-parallel-item:last-child::after {align-self: flex-start;width: 50%;}#sk-container-id-3 div.sk-parallel-item:only-child::after {width: 0;}#sk-container-id-3 div.sk-dashed-wrapped {border: 1px dashed gray;margin: 0 0.4em 0.5em 0.4em;box-sizing: border-box;padding-bottom: 0.4em;background-color: white;}#sk-container-id-3 div.sk-label label {font-family: monospace;font-weight: bold;display: inline-block;line-height: 1.2em;}#sk-container-id-3 div.sk-label-container {text-align: center;}#sk-container-id-3 div.sk-container {/* jupyter's `normalize.less` sets `[hidden] { display: none; }` but bootstrap.min.css set `[hidden] { display: none !important; }` so we also need the `!important` here to be able to override the default hidden behavior on the sphinx rendered scikit-learn.org. See: https://github.com/scikit-learn/scikit-learn/issues/21755 */display: inline-block !important;position: relative;}#sk-container-id-3 div.sk-text-repr-fallback {display: none;}</style><div id=\"sk-container-id-3\" class=\"sk-top-container\"><div class=\"sk-text-repr-fallback\"><pre>LinearRegression()</pre><b>In a Jupyter environment, please rerun this cell to show the HTML representation or trust the notebook. <br />On GitHub, the HTML representation is unable to render, please try loading this page with nbviewer.org.</b></div><div class=\"sk-container\" hidden><div class=\"sk-item\"><div class=\"sk-estimator sk-toggleable\"><input class=\"sk-toggleable__control sk-hidden--visually\" id=\"sk-estimator-id-3\" type=\"checkbox\" checked><label for=\"sk-estimator-id-3\" class=\"sk-toggleable__label sk-toggleable__label-arrow\">LinearRegression</label><div class=\"sk-toggleable__content\"><pre>LinearRegression()</pre></div></div></div></div></div>"
      ],
      "text/plain": [
       "LinearRegression()"
      ]
     },
     "execution_count": 34,
     "metadata": {},
     "output_type": "execute_result"
    }
   ],
   "source": [
    "x = New_data[['Republic']]\n",
    "y = New_data.sales\n",
    "\n",
    "from sklearn.linear_model import LinearRegression\n",
    "\n",
    "lm = LinearRegression()\n",
    "\n",
    "lm.fit(x,y)"
   ]
  },
  {
   "cell_type": "code",
   "execution_count": 35,
   "id": "a2f4ab36",
   "metadata": {},
   "outputs": [
    {
     "name": "stdout",
     "output_type": "stream",
     "text": [
      "6.961619807041656\n",
      "[0.04669226]\n"
     ]
    }
   ],
   "source": [
    "print(lm.intercept_) # c\n",
    "print(lm.coef_) # m"
   ]
  },
  {
   "cell_type": "code",
   "execution_count": 36,
   "id": "7638acdf",
   "metadata": {},
   "outputs": [
    {
     "data": {
      "text/plain": [
       "9.296219"
      ]
     },
     "execution_count": 36,
     "metadata": {},
     "output_type": "execute_result"
    }
   ],
   "source": [
    "# Calculating the prediction by self evaluating the x values y = mx + c\n",
    "6.961619 + 0.046692*50"
   ]
  },
  {
   "cell_type": "code",
   "execution_count": 37,
   "id": "2dd16ebe",
   "metadata": {},
   "outputs": [
    {
     "name": "stderr",
     "output_type": "stream",
     "text": [
      "C:\\Users\\singh\\anaconda3\\Lib\\site-packages\\sklearn\\base.py:464: UserWarning: X does not have valid feature names, but LinearRegression was fitted with feature names\n",
      "  warnings.warn(\n"
     ]
    },
    {
     "data": {
      "text/plain": [
       "array([9.2962328])"
      ]
     },
     "execution_count": 37,
     "metadata": {},
     "output_type": "execute_result"
    }
   ],
   "source": [
    "# using model to predict the  new value\n",
    "lm.predict([[50]])"
   ]
  },
  {
   "cell_type": "code",
   "execution_count": 38,
   "id": "93cad1f4",
   "metadata": {},
   "outputs": [],
   "source": [
    "# metric to check model performance(r2_score)\n",
    "\n",
    "from sklearn.metrics import r2_score"
   ]
  },
  {
   "cell_type": "code",
   "execution_count": 39,
   "id": "d6c57ad2",
   "metadata": {},
   "outputs": [],
   "source": [
    "predicted_sales_Republic = lm.predict(x)"
   ]
  },
  {
   "cell_type": "code",
   "execution_count": 40,
   "id": "b9d23f80",
   "metadata": {},
   "outputs": [
    {
     "data": {
      "text/html": [
       "<div>\n",
       "<style scoped>\n",
       "    .dataframe tbody tr th:only-of-type {\n",
       "        vertical-align: middle;\n",
       "    }\n",
       "\n",
       "    .dataframe tbody tr th {\n",
       "        vertical-align: top;\n",
       "    }\n",
       "\n",
       "    .dataframe thead th {\n",
       "        text-align: right;\n",
       "    }\n",
       "</style>\n",
       "<table border=\"1\" class=\"dataframe\">\n",
       "  <thead>\n",
       "    <tr style=\"text-align: right;\">\n",
       "      <th></th>\n",
       "      <th>Republic</th>\n",
       "    </tr>\n",
       "  </thead>\n",
       "  <tbody>\n",
       "    <tr>\n",
       "      <th>0</th>\n",
       "      <td>8.7</td>\n",
       "    </tr>\n",
       "    <tr>\n",
       "      <th>1</th>\n",
       "      <td>57.5</td>\n",
       "    </tr>\n",
       "    <tr>\n",
       "      <th>2</th>\n",
       "      <td>120.2</td>\n",
       "    </tr>\n",
       "    <tr>\n",
       "      <th>3</th>\n",
       "      <td>8.6</td>\n",
       "    </tr>\n",
       "    <tr>\n",
       "      <th>4</th>\n",
       "      <td>199.8</td>\n",
       "    </tr>\n",
       "  </tbody>\n",
       "</table>\n",
       "</div>"
      ],
      "text/plain": [
       "   Republic\n",
       "0       8.7\n",
       "1      57.5\n",
       "2     120.2\n",
       "3       8.6\n",
       "4     199.8"
      ]
     },
     "execution_count": 40,
     "metadata": {},
     "output_type": "execute_result"
    }
   ],
   "source": [
    "x.head()"
   ]
  },
  {
   "cell_type": "code",
   "execution_count": 41,
   "id": "526fc09d",
   "metadata": {},
   "outputs": [
    {
     "data": {
      "text/plain": [
       "array([ 7.36784247,  9.64642475, 12.57402945,  7.36317324, 16.29073333,\n",
       "       10.04797819, 16.986448  ,  8.07289559, 11.51411515, 16.49151005,\n",
       "       16.08528739, 10.12735503, 20.10082174, 10.19272419, 13.83938969,\n",
       "       17.15920937, 18.0463623 ,  7.57795764, 17.62146274,  9.8705476 ,\n",
       "       19.23701493, 13.63394374, 18.17243141, 18.57865407, 10.25809335,\n",
       "       20.63778273, 12.23317595, 11.50010747, 19.36308403, 11.43006908,\n",
       "       20.53505976, 19.42378397, 10.44953162,  8.97405621, 17.60745506,\n",
       "       16.41680243, 15.22614981, 20.67046731, 16.62224838,  8.13359553,\n",
       "       15.13743451, 11.14991552, 18.16309295, 17.57010125, 10.08533199,\n",
       "       16.79967896,  9.45965571, 19.16230732, 18.1350776 , 11.7569149 ,\n",
       "       13.08297508, 10.18338574,  8.43242599, 13.46585161, 18.0463623 ,\n",
       "       17.08450175, 16.25804875, 12.08842994,  8.21297237, 13.00359824,\n",
       "       16.92574807,  7.750719  ,  8.24565695, 12.58803712,  7.21375801,\n",
       "       12.37792195, 10.52890846, 18.15842373, 10.47754698, 10.15537038,\n",
       "       16.93041729, 15.98256442, 10.52423924, 12.13045298, 11.08454635,\n",
       "       12.08842994, 13.23239031,  8.29701844, 17.12652478, 18.67670781,\n",
       "       11.97636852, 14.58646585, 16.18801036, 15.59501866, 20.4883675 ,\n",
       "       13.27441334, 17.34597841, 20.80120564, 20.04479103, 15.73509544,\n",
       "       18.08371611, 13.40048245,  8.1289263 , 11.1826001 ,  7.57328841,\n",
       "       18.88682298, 10.61295453, 10.46820852, 13.46118238, 10.52890846,\n",
       "       12.83083687,  7.86744965, 17.24792466,  9.7444785 ,  6.99430439,\n",
       "       19.34440713,  7.35383479, 17.22457853,  8.6845642 ,  9.21685596,\n",
       "        8.15694166, 19.74129134,  8.96938698, 15.59501866, 10.38883168,\n",
       "       16.00591055, 17.25726311, 11.84563019, 11.45341521, 13.51254387,\n",
       "       18.17243141, 18.31717741,  8.73592568,  9.04876382, 20.06813716,\n",
       "       12.61138325, 16.18801036, 14.5958043 , 12.43395267, 17.91095475,\n",
       "        7.79741126, 16.61757915, 17.01913259, 20.23622929,  9.2962328 ,\n",
       "       14.64249656,  7.8767881 , 14.82459637, 17.34597841, 19.89070657,\n",
       "       18.55997716, 14.90864244, 19.88136812, 14.69385804, 14.27362771,\n",
       "       17.16387859,  9.58572481, 20.39031375, 18.81211537, 16.53353308,\n",
       "       13.47519006, 15.88451067, 20.31560613,  7.83476507,  8.80596407,\n",
       "       10.48688543,  7.76472668, 14.74988876, 13.95145111,  8.74526413,\n",
       "       11.36003069, 15.22614981, 20.20354471, 17.79889333, 13.23239031,\n",
       "        8.29701844, 17.12652478, 18.67670781, 11.97636852, 14.58646585,\n",
       "       16.18801036, 15.59501866, 20.4883675 , 13.27441334, 17.34597841,\n",
       "       20.80120564, 20.04479103, 15.73509544, 18.08371611, 13.40048245,\n",
       "        8.1289263 , 11.1826001 ,  7.57328841, 18.88682298, 17.50473209,\n",
       "       18.24713902, 15.16544987, 16.74831748, 10.61295453, 10.46820852,\n",
       "       13.46118238, 10.52890846, 12.83083687,  7.86744965, 13.55923613,\n",
       "        7.83943429, 17.42068602, 12.709437  , 17.67749345, 11.03318487,\n",
       "        7.32581943, 17.24792466,  9.7444785 ,  6.99430439, 19.34440713,\n",
       "        7.35383479, 17.22457853,  8.6845642 ,  9.21685596,  8.15694166,\n",
       "       19.74129134,  8.96938698, 15.59501866, 10.38883168, 16.00591055,\n",
       "       17.25726311, 11.84563019, 11.45341521, 13.51254387, 18.17243141,\n",
       "       18.31717741,  8.73592568,  9.04876382, 20.06813716, 12.61138325,\n",
       "       16.18801036, 14.96000393, 15.73042621,  7.15305807, 11.34602301,\n",
       "       13.95612034,  7.50791925, 13.11099043, 15.01603464, 10.96314648,\n",
       "       15.75844157, 14.5958043 , 12.43395267, 17.91095475,  7.79741126,\n",
       "       16.61757915, 17.01913259, 20.23622929,  9.2962328 , 14.64249656,\n",
       "        7.8767881 , 14.82459637, 17.34597841, 19.89070657, 18.55997716,\n",
       "       14.90864244, 19.88136812, 14.69385804, 14.27362771, 17.16387859,\n",
       "        9.58572481, 20.39031375, 18.81211537, 16.53353308, 13.47519006,\n",
       "       15.88451067, 20.31560613,  7.83476507,  8.80596407, 10.48688543,\n",
       "        7.76472668, 14.74988876, 13.95145111,  8.74526413, 11.36003069,\n",
       "       15.22614981, 20.20354471, 17.79889333, 18.81211537, 16.53353308,\n",
       "       13.47519006, 15.88451067, 20.31560613,  7.83476507,  8.80596407,\n",
       "       10.48688543,  7.76472668])"
      ]
     },
     "execution_count": 41,
     "metadata": {},
     "output_type": "execute_result"
    }
   ],
   "source": [
    "predicted_sales_Republic"
   ]
  },
  {
   "cell_type": "code",
   "execution_count": 42,
   "id": "24ecfd58",
   "metadata": {},
   "outputs": [
    {
     "data": {
      "text/plain": [
       "0.6102639305026736"
      ]
     },
     "execution_count": 42,
     "metadata": {},
     "output_type": "execute_result"
    }
   ],
   "source": [
    "# Let's compare the orignal numbers with our model predicted sales\n",
    "\n",
    "r2_score(y_true=y, y_pred=predicted_sales)"
   ]
  },
  {
   "cell_type": "code",
   "execution_count": 43,
   "id": "279c25ee",
   "metadata": {},
   "outputs": [
    {
     "data": {
      "text/html": [
       "<style>#sk-container-id-4 {color: black;}#sk-container-id-4 pre{padding: 0;}#sk-container-id-4 div.sk-toggleable {background-color: white;}#sk-container-id-4 label.sk-toggleable__label {cursor: pointer;display: block;width: 100%;margin-bottom: 0;padding: 0.3em;box-sizing: border-box;text-align: center;}#sk-container-id-4 label.sk-toggleable__label-arrow:before {content: \"▸\";float: left;margin-right: 0.25em;color: #696969;}#sk-container-id-4 label.sk-toggleable__label-arrow:hover:before {color: black;}#sk-container-id-4 div.sk-estimator:hover label.sk-toggleable__label-arrow:before {color: black;}#sk-container-id-4 div.sk-toggleable__content {max-height: 0;max-width: 0;overflow: hidden;text-align: left;background-color: #f0f8ff;}#sk-container-id-4 div.sk-toggleable__content pre {margin: 0.2em;color: black;border-radius: 0.25em;background-color: #f0f8ff;}#sk-container-id-4 input.sk-toggleable__control:checked~div.sk-toggleable__content {max-height: 200px;max-width: 100%;overflow: auto;}#sk-container-id-4 input.sk-toggleable__control:checked~label.sk-toggleable__label-arrow:before {content: \"▾\";}#sk-container-id-4 div.sk-estimator input.sk-toggleable__control:checked~label.sk-toggleable__label {background-color: #d4ebff;}#sk-container-id-4 div.sk-label input.sk-toggleable__control:checked~label.sk-toggleable__label {background-color: #d4ebff;}#sk-container-id-4 input.sk-hidden--visually {border: 0;clip: rect(1px 1px 1px 1px);clip: rect(1px, 1px, 1px, 1px);height: 1px;margin: -1px;overflow: hidden;padding: 0;position: absolute;width: 1px;}#sk-container-id-4 div.sk-estimator {font-family: monospace;background-color: #f0f8ff;border: 1px dotted black;border-radius: 0.25em;box-sizing: border-box;margin-bottom: 0.5em;}#sk-container-id-4 div.sk-estimator:hover {background-color: #d4ebff;}#sk-container-id-4 div.sk-parallel-item::after {content: \"\";width: 100%;border-bottom: 1px solid gray;flex-grow: 1;}#sk-container-id-4 div.sk-label:hover label.sk-toggleable__label {background-color: #d4ebff;}#sk-container-id-4 div.sk-serial::before {content: \"\";position: absolute;border-left: 1px solid gray;box-sizing: border-box;top: 0;bottom: 0;left: 50%;z-index: 0;}#sk-container-id-4 div.sk-serial {display: flex;flex-direction: column;align-items: center;background-color: white;padding-right: 0.2em;padding-left: 0.2em;position: relative;}#sk-container-id-4 div.sk-item {position: relative;z-index: 1;}#sk-container-id-4 div.sk-parallel {display: flex;align-items: stretch;justify-content: center;background-color: white;position: relative;}#sk-container-id-4 div.sk-item::before, #sk-container-id-4 div.sk-parallel-item::before {content: \"\";position: absolute;border-left: 1px solid gray;box-sizing: border-box;top: 0;bottom: 0;left: 50%;z-index: -1;}#sk-container-id-4 div.sk-parallel-item {display: flex;flex-direction: column;z-index: 1;position: relative;background-color: white;}#sk-container-id-4 div.sk-parallel-item:first-child::after {align-self: flex-end;width: 50%;}#sk-container-id-4 div.sk-parallel-item:last-child::after {align-self: flex-start;width: 50%;}#sk-container-id-4 div.sk-parallel-item:only-child::after {width: 0;}#sk-container-id-4 div.sk-dashed-wrapped {border: 1px dashed gray;margin: 0 0.4em 0.5em 0.4em;box-sizing: border-box;padding-bottom: 0.4em;background-color: white;}#sk-container-id-4 div.sk-label label {font-family: monospace;font-weight: bold;display: inline-block;line-height: 1.2em;}#sk-container-id-4 div.sk-label-container {text-align: center;}#sk-container-id-4 div.sk-container {/* jupyter's `normalize.less` sets `[hidden] { display: none; }` but bootstrap.min.css set `[hidden] { display: none !important; }` so we also need the `!important` here to be able to override the default hidden behavior on the sphinx rendered scikit-learn.org. See: https://github.com/scikit-learn/scikit-learn/issues/21755 */display: inline-block !important;position: relative;}#sk-container-id-4 div.sk-text-repr-fallback {display: none;}</style><div id=\"sk-container-id-4\" class=\"sk-top-container\"><div class=\"sk-text-repr-fallback\"><pre>LinearRegression()</pre><b>In a Jupyter environment, please rerun this cell to show the HTML representation or trust the notebook. <br />On GitHub, the HTML representation is unable to render, please try loading this page with nbviewer.org.</b></div><div class=\"sk-container\" hidden><div class=\"sk-item\"><div class=\"sk-estimator sk-toggleable\"><input class=\"sk-toggleable__control sk-hidden--visually\" id=\"sk-estimator-id-4\" type=\"checkbox\" checked><label for=\"sk-estimator-id-4\" class=\"sk-toggleable__label sk-toggleable__label-arrow\">LinearRegression</label><div class=\"sk-toggleable__content\"><pre>LinearRegression()</pre></div></div></div></div></div>"
      ],
      "text/plain": [
       "LinearRegression()"
      ]
     },
     "execution_count": 43,
     "metadata": {},
     "output_type": "execute_result"
    }
   ],
   "source": [
    "x = New_data[['NDTV']]\n",
    "y = New_data.sales\n",
    "\n",
    "from sklearn.linear_model import LinearRegression\n",
    "\n",
    "lm = LinearRegression()\n",
    "\n",
    "lm.fit(x,y)"
   ]
  },
  {
   "cell_type": "code",
   "execution_count": 44,
   "id": "97927f5f",
   "metadata": {},
   "outputs": [
    {
     "name": "stdout",
     "output_type": "stream",
     "text": [
      "9.262313102410374\n",
      "[0.20760888]\n"
     ]
    }
   ],
   "source": [
    "print(lm.intercept_) # c\n",
    "print(lm.coef_) # m"
   ]
  },
  {
   "cell_type": "code",
   "execution_count": 45,
   "id": "4138ef6c",
   "metadata": {},
   "outputs": [
    {
     "data": {
      "text/plain": [
       "19.642713"
      ]
     },
     "execution_count": 45,
     "metadata": {},
     "output_type": "execute_result"
    }
   ],
   "source": [
    "# calculate the prediction y = mx + c\n",
    "9.262313 + 0.207608*50"
   ]
  },
  {
   "cell_type": "code",
   "execution_count": 46,
   "id": "e08556ee",
   "metadata": {},
   "outputs": [
    {
     "name": "stderr",
     "output_type": "stream",
     "text": [
      "C:\\Users\\singh\\anaconda3\\Lib\\site-packages\\sklearn\\base.py:464: UserWarning: X does not have valid feature names, but LinearRegression was fitted with feature names\n",
      "  warnings.warn(\n"
     ]
    },
    {
     "data": {
      "text/plain": [
       "array([19.64275729])"
      ]
     },
     "execution_count": 46,
     "metadata": {},
     "output_type": "execute_result"
    }
   ],
   "source": [
    "# use the modelto make predictions on a new value\n",
    "lm.predict([[50]])"
   ]
  },
  {
   "cell_type": "code",
   "execution_count": 47,
   "id": "c13131fd",
   "metadata": {},
   "outputs": [],
   "source": [
    "# metric to check model performance(r2_score)\n",
    "\n",
    "from sklearn.metrics import r2_score"
   ]
  },
  {
   "cell_type": "code",
   "execution_count": 48,
   "id": "9a5663d4",
   "metadata": {},
   "outputs": [],
   "source": [
    "predicted_sales_NDTV = lm.predict(x)"
   ]
  },
  {
   "cell_type": "code",
   "execution_count": 49,
   "id": "26b6af07",
   "metadata": {},
   "outputs": [
    {
     "data": {
      "text/html": [
       "<div>\n",
       "<style scoped>\n",
       "    .dataframe tbody tr th:only-of-type {\n",
       "        vertical-align: middle;\n",
       "    }\n",
       "\n",
       "    .dataframe tbody tr th {\n",
       "        vertical-align: top;\n",
       "    }\n",
       "\n",
       "    .dataframe thead th {\n",
       "        text-align: right;\n",
       "    }\n",
       "</style>\n",
       "<table border=\"1\" class=\"dataframe\">\n",
       "  <thead>\n",
       "    <tr style=\"text-align: right;\">\n",
       "      <th></th>\n",
       "      <th>NDTV</th>\n",
       "    </tr>\n",
       "  </thead>\n",
       "  <tbody>\n",
       "    <tr>\n",
       "      <th>0</th>\n",
       "      <td>48.9</td>\n",
       "    </tr>\n",
       "    <tr>\n",
       "      <th>1</th>\n",
       "      <td>32.8</td>\n",
       "    </tr>\n",
       "    <tr>\n",
       "      <th>2</th>\n",
       "      <td>19.6</td>\n",
       "    </tr>\n",
       "    <tr>\n",
       "      <th>3</th>\n",
       "      <td>2.1</td>\n",
       "    </tr>\n",
       "    <tr>\n",
       "      <th>4</th>\n",
       "      <td>2.6</td>\n",
       "    </tr>\n",
       "  </tbody>\n",
       "</table>\n",
       "</div>"
      ],
      "text/plain": [
       "   NDTV\n",
       "0  48.9\n",
       "1  32.8\n",
       "2  19.6\n",
       "3   2.1\n",
       "4   2.6"
      ]
     },
     "execution_count": 49,
     "metadata": {},
     "output_type": "execute_result"
    }
   ],
   "source": [
    "x.head()"
   ]
  },
  {
   "cell_type": "code",
   "execution_count": 50,
   "id": "80dbd505",
   "metadata": {},
   "outputs": [
    {
     "data": {
      "text/plain": [
       "array([19.41438752, 16.07188449, 13.33144723,  9.69829176,  9.8020962 ,\n",
       "       10.46644463, 14.24492631, 16.54938493, 10.84014062, 16.09264538,\n",
       "       19.16525686, 16.86079825, 17.4836249 , 13.51829522, 14.22416543,\n",
       "       15.01307918, 10.32111841, 12.56329436, 12.77090324, 11.87818504,\n",
       "        9.9889442 , 15.3452534 , 12.72938146, 14.88851385, 12.58405524,\n",
       "       15.13764451, 12.87470768,  9.57372643, 13.41449078,  9.55296554,\n",
       "       10.11350953, 18.35558221, 19.51819196, 14.8054703 , 17.08916802,\n",
       "       13.89199121, 16.19644982, 15.01307918, 11.00622773, 14.59786142,\n",
       "       13.93351299, 11.31764105, 17.87808178, 12.54253347, 11.69133704,\n",
       "       15.38677518,  9.67753087, 18.12721244, 12.4802508 , 15.40753606,\n",
       "       18.14797333, 11.19307572, 14.36949164, 12.27264192, 14.97155741,\n",
       "       18.3763431 , 15.61514495, 12.23112014, 16.11340627, 10.44568374,\n",
       "       14.36949164, 18.33482133,  9.59448732, 15.17916629, 15.46981873,\n",
       "       10.86090151, 14.8054703 , 10.11350953, 13.47677344, 18.50090843,\n",
       "       18.18949511, 13.08231657, 14.97155741, 17.69123379, 14.55633964,\n",
       "       19.18601775, 10.27959663,  9.57372643, 16.21721071, 16.84003736,\n",
       "       12.16883748, 15.82275383,  9.9889442 , 13.62209966, 18.04416889,\n",
       "       17.91960356, 10.1550313 , 16.79851559, 11.35916283, 12.8331859 ,\n",
       "       16.38329782, 18.89536531, 11.54601082,  9.32459577,  9.34535666,\n",
       "       14.84699208, 18.97840887, 16.52862404, 12.23112014,  9.42840021,\n",
       "       16.92308092, 12.58405524, 19.43514841, 11.75361971, 17.4836249 ,\n",
       "        9.86437887, 14.90927474, 16.21721071, 17.27601602, 19.01993064,\n",
       "       17.35905957, 15.26220985, 14.63938319, 18.3763431 , 12.79166413,\n",
       "       16.61166759, 16.15492805, 10.44568374, 12.33492458,  9.65676998,\n",
       "       10.77785795, 19.43514841, 17.62895112, 14.61862231, 12.14807659,\n",
       "       11.00622773, 14.0996001 , 16.90232003, 12.31416369,  9.96818331,\n",
       "       17.06840713, 10.3418793 , 14.16188276, 11.46296727, 11.67057615,\n",
       "       13.60133877, 13.43525167, 10.73633618,  9.96818331, 19.41438752,\n",
       "       15.53210139, 10.8816624 ,  9.73981354, 11.33840194,  9.8020962 ,\n",
       "       10.38340108, 10.44568374, 18.18949511, 13.68438233, 18.62547376,\n",
       "        9.69829176, 15.22068807, 12.14807659, 11.7743806 , 17.79503823,\n",
       "       11.50448905, 10.11350953, 17.98188622, 16.65318937, 10.03046597,\n",
       "       10.27959663, 11.19307572, 17.98188622, 11.0477495 , 10.27959663,\n",
       "        9.57372643, 16.21721071, 16.84003736, 12.16883748, 15.82275383,\n",
       "        9.9889442 , 13.62209966, 18.04416889, 17.91960356, 10.1550313 ,\n",
       "       16.79851559, 11.35916283, 12.8331859 , 16.38329782, 18.89536531,\n",
       "       11.54601082,  9.32459577,  9.34535666, 14.84699208, 10.96470595,\n",
       "       17.15145069, 12.45948991, 13.53905611, 18.97840887, 16.52862404,\n",
       "       12.23112014,  9.42840021, 16.92308092, 12.58405524, 14.82623119,\n",
       "       13.76742588,  9.76057442, 16.44558048, 15.96808005, 11.71209793,\n",
       "       17.33829868, 19.43514841, 11.75361971, 17.4836249 ,  9.86437887,\n",
       "       14.90927474, 16.21721071, 17.27601602, 19.01993064, 17.35905957,\n",
       "       15.26220985, 14.63938319, 18.3763431 , 12.79166413, 16.61166759,\n",
       "       16.15492805, 10.44568374, 12.33492458,  9.65676998, 10.77785795,\n",
       "       19.43514841, 17.62895112, 14.61862231, 12.14807659, 11.00622773,\n",
       "       14.0996001 , 17.50438579, 13.64286055, 11.67057615, 18.29329955,\n",
       "        9.53220465, 16.92308092, 13.08231657, 13.0200339 , 16.69471114,\n",
       "       13.0200339 , 16.90232003, 12.31416369,  9.96818331, 17.06840713,\n",
       "       10.3418793 , 14.16188276, 11.46296727, 11.67057615, 13.60133877,\n",
       "       13.43525167, 10.73633618,  9.96818331, 19.41438752, 15.53210139,\n",
       "       10.8816624 ,  9.73981354, 11.33840194,  9.8020962 , 10.38340108,\n",
       "       10.44568374, 18.18949511, 13.68438233, 18.62547376,  9.69829176,\n",
       "       15.22068807, 12.14807659, 11.7743806 , 17.79503823, 11.50448905,\n",
       "       10.11350953, 17.98188622, 16.65318937, 10.03046597, 10.27959663,\n",
       "       11.19307572, 17.98188622, 11.0477495 , 13.68438233, 18.62547376,\n",
       "        9.69829176, 15.22068807, 12.14807659, 11.7743806 , 17.79503823,\n",
       "       11.50448905, 10.11350953])"
      ]
     },
     "execution_count": 50,
     "metadata": {},
     "output_type": "execute_result"
    }
   ],
   "source": [
    "predicted_sales_NDTV"
   ]
  },
  {
   "cell_type": "code",
   "execution_count": 51,
   "id": "f695c1b5",
   "metadata": {},
   "outputs": [
    {
     "data": {
      "text/plain": [
       "0.3466301478667738"
      ]
     },
     "execution_count": 51,
     "metadata": {},
     "output_type": "execute_result"
    }
   ],
   "source": [
    "# Let's compare the orignal numbers with our model predicted sales\n",
    "\n",
    "r2_score(y_true=y, y_pred=predicted_sales_NDTV)"
   ]
  },
  {
   "cell_type": "code",
   "execution_count": 52,
   "id": "2184a079",
   "metadata": {},
   "outputs": [
    {
     "data": {
      "text/html": [
       "<style>#sk-container-id-5 {color: black;}#sk-container-id-5 pre{padding: 0;}#sk-container-id-5 div.sk-toggleable {background-color: white;}#sk-container-id-5 label.sk-toggleable__label {cursor: pointer;display: block;width: 100%;margin-bottom: 0;padding: 0.3em;box-sizing: border-box;text-align: center;}#sk-container-id-5 label.sk-toggleable__label-arrow:before {content: \"▸\";float: left;margin-right: 0.25em;color: #696969;}#sk-container-id-5 label.sk-toggleable__label-arrow:hover:before {color: black;}#sk-container-id-5 div.sk-estimator:hover label.sk-toggleable__label-arrow:before {color: black;}#sk-container-id-5 div.sk-toggleable__content {max-height: 0;max-width: 0;overflow: hidden;text-align: left;background-color: #f0f8ff;}#sk-container-id-5 div.sk-toggleable__content pre {margin: 0.2em;color: black;border-radius: 0.25em;background-color: #f0f8ff;}#sk-container-id-5 input.sk-toggleable__control:checked~div.sk-toggleable__content {max-height: 200px;max-width: 100%;overflow: auto;}#sk-container-id-5 input.sk-toggleable__control:checked~label.sk-toggleable__label-arrow:before {content: \"▾\";}#sk-container-id-5 div.sk-estimator input.sk-toggleable__control:checked~label.sk-toggleable__label {background-color: #d4ebff;}#sk-container-id-5 div.sk-label input.sk-toggleable__control:checked~label.sk-toggleable__label {background-color: #d4ebff;}#sk-container-id-5 input.sk-hidden--visually {border: 0;clip: rect(1px 1px 1px 1px);clip: rect(1px, 1px, 1px, 1px);height: 1px;margin: -1px;overflow: hidden;padding: 0;position: absolute;width: 1px;}#sk-container-id-5 div.sk-estimator {font-family: monospace;background-color: #f0f8ff;border: 1px dotted black;border-radius: 0.25em;box-sizing: border-box;margin-bottom: 0.5em;}#sk-container-id-5 div.sk-estimator:hover {background-color: #d4ebff;}#sk-container-id-5 div.sk-parallel-item::after {content: \"\";width: 100%;border-bottom: 1px solid gray;flex-grow: 1;}#sk-container-id-5 div.sk-label:hover label.sk-toggleable__label {background-color: #d4ebff;}#sk-container-id-5 div.sk-serial::before {content: \"\";position: absolute;border-left: 1px solid gray;box-sizing: border-box;top: 0;bottom: 0;left: 50%;z-index: 0;}#sk-container-id-5 div.sk-serial {display: flex;flex-direction: column;align-items: center;background-color: white;padding-right: 0.2em;padding-left: 0.2em;position: relative;}#sk-container-id-5 div.sk-item {position: relative;z-index: 1;}#sk-container-id-5 div.sk-parallel {display: flex;align-items: stretch;justify-content: center;background-color: white;position: relative;}#sk-container-id-5 div.sk-item::before, #sk-container-id-5 div.sk-parallel-item::before {content: \"\";position: absolute;border-left: 1px solid gray;box-sizing: border-box;top: 0;bottom: 0;left: 50%;z-index: -1;}#sk-container-id-5 div.sk-parallel-item {display: flex;flex-direction: column;z-index: 1;position: relative;background-color: white;}#sk-container-id-5 div.sk-parallel-item:first-child::after {align-self: flex-end;width: 50%;}#sk-container-id-5 div.sk-parallel-item:last-child::after {align-self: flex-start;width: 50%;}#sk-container-id-5 div.sk-parallel-item:only-child::after {width: 0;}#sk-container-id-5 div.sk-dashed-wrapped {border: 1px dashed gray;margin: 0 0.4em 0.5em 0.4em;box-sizing: border-box;padding-bottom: 0.4em;background-color: white;}#sk-container-id-5 div.sk-label label {font-family: monospace;font-weight: bold;display: inline-block;line-height: 1.2em;}#sk-container-id-5 div.sk-label-container {text-align: center;}#sk-container-id-5 div.sk-container {/* jupyter's `normalize.less` sets `[hidden] { display: none; }` but bootstrap.min.css set `[hidden] { display: none !important; }` so we also need the `!important` here to be able to override the default hidden behavior on the sphinx rendered scikit-learn.org. See: https://github.com/scikit-learn/scikit-learn/issues/21755 */display: inline-block !important;position: relative;}#sk-container-id-5 div.sk-text-repr-fallback {display: none;}</style><div id=\"sk-container-id-5\" class=\"sk-top-container\"><div class=\"sk-text-repr-fallback\"><pre>LinearRegression()</pre><b>In a Jupyter environment, please rerun this cell to show the HTML representation or trust the notebook. <br />On GitHub, the HTML representation is unable to render, please try loading this page with nbviewer.org.</b></div><div class=\"sk-container\" hidden><div class=\"sk-item\"><div class=\"sk-estimator sk-toggleable\"><input class=\"sk-toggleable__control sk-hidden--visually\" id=\"sk-estimator-id-5\" type=\"checkbox\" checked><label for=\"sk-estimator-id-5\" class=\"sk-toggleable__label sk-toggleable__label-arrow\">LinearRegression</label><div class=\"sk-toggleable__content\"><pre>LinearRegression()</pre></div></div></div></div></div>"
      ],
      "text/plain": [
       "LinearRegression()"
      ]
     },
     "execution_count": 52,
     "metadata": {},
     "output_type": "execute_result"
    }
   ],
   "source": [
    "x = New_data[['TV5']]\n",
    "y = New_data.sales\n",
    "\n",
    "from sklearn.linear_model import LinearRegression\n",
    "\n",
    "lm = LinearRegression()\n",
    "\n",
    "lm.fit(x,y)"
   ]
  },
  {
   "cell_type": "code",
   "execution_count": 53,
   "id": "edec713c",
   "metadata": {},
   "outputs": [
    {
     "name": "stdout",
     "output_type": "stream",
     "text": [
      "13.582534364334874\n",
      "[0.01053942]\n"
     ]
    }
   ],
   "source": [
    "print(lm.intercept_) # c\n",
    "print(lm.coef_) # m"
   ]
  },
  {
   "cell_type": "code",
   "execution_count": 54,
   "id": "873529b9",
   "metadata": {},
   "outputs": [
    {
     "data": {
      "text/plain": [
       "14.109484"
      ]
     },
     "execution_count": 54,
     "metadata": {},
     "output_type": "execute_result"
    }
   ],
   "source": [
    "13.582534 + 0.010539*50"
   ]
  },
  {
   "cell_type": "code",
   "execution_count": 55,
   "id": "7f174b14",
   "metadata": {},
   "outputs": [
    {
     "name": "stderr",
     "output_type": "stream",
     "text": [
      "C:\\Users\\singh\\anaconda3\\Lib\\site-packages\\sklearn\\base.py:464: UserWarning: X does not have valid feature names, but LinearRegression was fitted with feature names\n",
      "  warnings.warn(\n"
     ]
    },
    {
     "data": {
      "text/plain": [
       "array([14.10950546])"
      ]
     },
     "execution_count": 55,
     "metadata": {},
     "output_type": "execute_result"
    }
   ],
   "source": [
    "lm.predict([[50]])"
   ]
  },
  {
   "cell_type": "code",
   "execution_count": 56,
   "id": "d05af97e",
   "metadata": {},
   "outputs": [],
   "source": [
    "# metric to check model performance(r2_score)\n",
    "\n",
    "from sklearn.metrics import r2_score"
   ]
  },
  {
   "cell_type": "code",
   "execution_count": 57,
   "id": "6660eed7",
   "metadata": {},
   "outputs": [],
   "source": [
    "predicted_sales_TV5 = lm.predict(x)"
   ]
  },
  {
   "cell_type": "code",
   "execution_count": 58,
   "id": "286c08b1",
   "metadata": {},
   "outputs": [
    {
     "data": {
      "text/html": [
       "<div>\n",
       "<style scoped>\n",
       "    .dataframe tbody tr th:only-of-type {\n",
       "        vertical-align: middle;\n",
       "    }\n",
       "\n",
       "    .dataframe tbody tr th {\n",
       "        vertical-align: top;\n",
       "    }\n",
       "\n",
       "    .dataframe thead th {\n",
       "        text-align: right;\n",
       "    }\n",
       "</style>\n",
       "<table border=\"1\" class=\"dataframe\">\n",
       "  <thead>\n",
       "    <tr style=\"text-align: right;\">\n",
       "      <th></th>\n",
       "      <th>TV5</th>\n",
       "    </tr>\n",
       "  </thead>\n",
       "  <tbody>\n",
       "    <tr>\n",
       "      <th>0</th>\n",
       "      <td>4.0</td>\n",
       "    </tr>\n",
       "    <tr>\n",
       "      <th>1</th>\n",
       "      <td>65.9</td>\n",
       "    </tr>\n",
       "    <tr>\n",
       "      <th>2</th>\n",
       "      <td>7.2</td>\n",
       "    </tr>\n",
       "    <tr>\n",
       "      <th>3</th>\n",
       "      <td>46.0</td>\n",
       "    </tr>\n",
       "    <tr>\n",
       "      <th>4</th>\n",
       "      <td>52.9</td>\n",
       "    </tr>\n",
       "  </tbody>\n",
       "</table>\n",
       "</div>"
      ],
      "text/plain": [
       "    TV5\n",
       "0   4.0\n",
       "1  65.9\n",
       "2   7.2\n",
       "3  46.0\n",
       "4  52.9"
      ]
     },
     "execution_count": 58,
     "metadata": {},
     "output_type": "execute_result"
    }
   ],
   "source": [
    "x.head()"
   ]
  },
  {
   "cell_type": "code",
   "execution_count": 59,
   "id": "1ad50dd6",
   "metadata": {},
   "outputs": [
    {
     "data": {
      "text/plain": [
       "array([13.62469205, 14.27708226, 13.6584182 , 14.06734777, 14.14006978,\n",
       "       14.78402846, 14.1706341 , 13.77540578, 13.78383732, 14.14533949,\n",
       "       13.77540578, 13.78383732, 14.14533949, 13.83021078, 14.10528969,\n",
       "       13.85866722, 13.77540578, 13.78805309, 13.71533108, 13.82388712,\n",
       "       13.82388712, 14.01254278, 14.03783739, 13.98935605, 13.89871702,\n",
       "       13.58569619, 13.66052609, 13.67211945, 13.63523147, 14.06418594,\n",
       "       13.95246807, 13.9155801 , 13.99040999, 13.60150532, 13.8607751 ,\n",
       "       14.03889133, 13.91452615, 13.95879172, 13.77751367, 14.10845152,\n",
       "       13.97038509, 13.94719836, 13.62047628, 13.99989547, 14.20119843,\n",
       "       13.59201984, 13.60572109, 13.69003647, 13.698468  , 13.86920664,\n",
       "       13.99040999, 13.91663404, 13.78594521, 13.91241827, 13.72060079,\n",
       "       14.52475868, 13.92506557, 13.95773778, 13.93876682, 14.27497438,\n",
       "       13.75116511, 14.24862583, 14.35612793, 14.12426065, 13.68055099,\n",
       "       13.93033529, 14.20436025, 14.31186236, 14.05786229, 14.3129163 ,\n",
       "       14.19909054, 14.1980366 , 14.372991  , 13.83021078, 13.70479166,\n",
       "       13.59307379, 13.80597011, 13.83758837, 13.62469205, 14.27708226,\n",
       "       13.6584182 , 14.06734777, 14.14006978, 14.78402846, 14.1706341 ,\n",
       "       13.77540578, 13.78383732, 14.14533949, 13.83021078, 14.10528969,\n",
       "       13.85866722, 13.77540578, 13.78805309, 13.71533108, 13.82388712,\n",
       "       13.82388712, 13.58569619, 13.66052609, 13.67211945, 13.63523147,\n",
       "       14.06418594, 13.95246807, 13.77751367, 14.10845152, 13.97038509,\n",
       "       13.94719836, 13.62047628, 13.99989547, 14.20119843, 13.75011117,\n",
       "       14.21489968, 14.01886643, 13.75748877, 13.97987057, 13.68055099,\n",
       "       13.80807799, 14.15904074, 13.87026058, 13.67106551, 13.88712366,\n",
       "       13.59201984, 13.60572109, 13.69003647, 13.698468  , 13.86920664,\n",
       "       13.99040999, 13.91663404, 13.92506557, 13.95773778, 13.93876682,\n",
       "       13.64260907, 14.11477517, 13.83864232, 14.05891623, 13.94719836,\n",
       "       13.90609462, 14.10212786, 13.85234356, 13.66052609, 13.63944724,\n",
       "       14.47627734, 13.81018588, 13.78699915, 14.18960506, 13.64998666,\n",
       "       13.77645973, 14.08210296, 13.76170454, 13.71743896, 13.72060079,\n",
       "       14.0230822 , 13.79648463, 13.95352201, 13.83231866, 13.76802819,\n",
       "       13.67001157, 13.89871702, 13.78910703, 13.86288299, 13.77435184,\n",
       "       13.62153023, 13.82915684, 13.64366301, 13.6457709 , 13.80597011,\n",
       "       13.83758837, 13.62469205, 14.27708226, 13.6584182 , 14.06734777,\n",
       "       14.14006978, 14.78402846, 14.1706341 , 13.77540578, 13.78383732,\n",
       "       14.14533949, 13.83021078, 14.10528969, 13.85866722, 13.77540578,\n",
       "       13.78805309, 13.71533108, 13.82388712, 13.82388712, 14.01254278,\n",
       "       14.03783739, 13.98935605, 13.89871702, 13.58569619, 13.66052609,\n",
       "       13.67211945, 13.63523147, 14.06418594, 13.95246807, 13.91979586,\n",
       "       13.9155801 , 13.99040999, 13.60150532, 13.8607751 , 14.03889133,\n",
       "       13.91452615, 13.77751367, 14.10845152, 13.97038509, 13.94719836,\n",
       "       13.62047628, 13.99989547, 14.20119843, 13.75011117, 14.21489968,\n",
       "       14.01886643, 13.75748877, 13.97987057, 13.68055099, 13.80807799,\n",
       "       14.15904074, 13.87026058, 13.67106551, 13.88712366, 13.59201984,\n",
       "       13.60572109, 13.69003647, 13.698468  , 13.86920664, 13.99040999,\n",
       "       13.91663404, 13.78594521, 13.91241827, 13.72060079, 14.52475868,\n",
       "       13.8007004 , 13.73219415, 13.68160493, 13.82599501, 13.81756347,\n",
       "       13.97143903, 13.92506557, 13.95773778, 13.93876682, 13.64260907,\n",
       "       14.11477517, 13.83864232, 14.05891623, 13.94719836, 13.90609462,\n",
       "       14.10212786, 13.85234356, 13.66052609, 13.63944724, 14.47627734,\n",
       "       13.81018588, 13.78699915, 14.18960506, 13.64998666, 13.77645973,\n",
       "       14.08210296, 13.76170454, 13.71743896, 13.72060079, 14.0230822 ,\n",
       "       13.79648463, 13.95352201, 13.83231866, 13.76802819, 13.67001157,\n",
       "       13.89871702, 13.78910703, 13.86288299, 13.77435184, 13.62153023,\n",
       "       13.82915684, 13.64366301, 13.6457709 , 13.71743896, 13.72060079,\n",
       "       14.0230822 , 13.79648463, 13.95352201, 13.83231866, 13.76802819,\n",
       "       13.67001157, 13.89871702])"
      ]
     },
     "execution_count": 59,
     "metadata": {},
     "output_type": "execute_result"
    }
   ],
   "source": [
    "predicted_sales_TV5"
   ]
  },
  {
   "cell_type": "code",
   "execution_count": 60,
   "id": "d8b16bd8",
   "metadata": {},
   "outputs": [
    {
     "data": {
      "text/plain": [
       "0.0017094252488103479"
      ]
     },
     "execution_count": 60,
     "metadata": {},
     "output_type": "execute_result"
    }
   ],
   "source": [
    "r2_score(y_true=y, y_pred=predicted_sales_TV5)"
   ]
  },
  {
   "cell_type": "code",
   "execution_count": 61,
   "id": "01c894f5",
   "metadata": {},
   "outputs": [
    {
     "data": {
      "text/html": [
       "<style>#sk-container-id-6 {color: black;}#sk-container-id-6 pre{padding: 0;}#sk-container-id-6 div.sk-toggleable {background-color: white;}#sk-container-id-6 label.sk-toggleable__label {cursor: pointer;display: block;width: 100%;margin-bottom: 0;padding: 0.3em;box-sizing: border-box;text-align: center;}#sk-container-id-6 label.sk-toggleable__label-arrow:before {content: \"▸\";float: left;margin-right: 0.25em;color: #696969;}#sk-container-id-6 label.sk-toggleable__label-arrow:hover:before {color: black;}#sk-container-id-6 div.sk-estimator:hover label.sk-toggleable__label-arrow:before {color: black;}#sk-container-id-6 div.sk-toggleable__content {max-height: 0;max-width: 0;overflow: hidden;text-align: left;background-color: #f0f8ff;}#sk-container-id-6 div.sk-toggleable__content pre {margin: 0.2em;color: black;border-radius: 0.25em;background-color: #f0f8ff;}#sk-container-id-6 input.sk-toggleable__control:checked~div.sk-toggleable__content {max-height: 200px;max-width: 100%;overflow: auto;}#sk-container-id-6 input.sk-toggleable__control:checked~label.sk-toggleable__label-arrow:before {content: \"▾\";}#sk-container-id-6 div.sk-estimator input.sk-toggleable__control:checked~label.sk-toggleable__label {background-color: #d4ebff;}#sk-container-id-6 div.sk-label input.sk-toggleable__control:checked~label.sk-toggleable__label {background-color: #d4ebff;}#sk-container-id-6 input.sk-hidden--visually {border: 0;clip: rect(1px 1px 1px 1px);clip: rect(1px, 1px, 1px, 1px);height: 1px;margin: -1px;overflow: hidden;padding: 0;position: absolute;width: 1px;}#sk-container-id-6 div.sk-estimator {font-family: monospace;background-color: #f0f8ff;border: 1px dotted black;border-radius: 0.25em;box-sizing: border-box;margin-bottom: 0.5em;}#sk-container-id-6 div.sk-estimator:hover {background-color: #d4ebff;}#sk-container-id-6 div.sk-parallel-item::after {content: \"\";width: 100%;border-bottom: 1px solid gray;flex-grow: 1;}#sk-container-id-6 div.sk-label:hover label.sk-toggleable__label {background-color: #d4ebff;}#sk-container-id-6 div.sk-serial::before {content: \"\";position: absolute;border-left: 1px solid gray;box-sizing: border-box;top: 0;bottom: 0;left: 50%;z-index: 0;}#sk-container-id-6 div.sk-serial {display: flex;flex-direction: column;align-items: center;background-color: white;padding-right: 0.2em;padding-left: 0.2em;position: relative;}#sk-container-id-6 div.sk-item {position: relative;z-index: 1;}#sk-container-id-6 div.sk-parallel {display: flex;align-items: stretch;justify-content: center;background-color: white;position: relative;}#sk-container-id-6 div.sk-item::before, #sk-container-id-6 div.sk-parallel-item::before {content: \"\";position: absolute;border-left: 1px solid gray;box-sizing: border-box;top: 0;bottom: 0;left: 50%;z-index: -1;}#sk-container-id-6 div.sk-parallel-item {display: flex;flex-direction: column;z-index: 1;position: relative;background-color: white;}#sk-container-id-6 div.sk-parallel-item:first-child::after {align-self: flex-end;width: 50%;}#sk-container-id-6 div.sk-parallel-item:last-child::after {align-self: flex-start;width: 50%;}#sk-container-id-6 div.sk-parallel-item:only-child::after {width: 0;}#sk-container-id-6 div.sk-dashed-wrapped {border: 1px dashed gray;margin: 0 0.4em 0.5em 0.4em;box-sizing: border-box;padding-bottom: 0.4em;background-color: white;}#sk-container-id-6 div.sk-label label {font-family: monospace;font-weight: bold;display: inline-block;line-height: 1.2em;}#sk-container-id-6 div.sk-label-container {text-align: center;}#sk-container-id-6 div.sk-container {/* jupyter's `normalize.less` sets `[hidden] { display: none; }` but bootstrap.min.css set `[hidden] { display: none !important; }` so we also need the `!important` here to be able to override the default hidden behavior on the sphinx rendered scikit-learn.org. See: https://github.com/scikit-learn/scikit-learn/issues/21755 */display: inline-block !important;position: relative;}#sk-container-id-6 div.sk-text-repr-fallback {display: none;}</style><div id=\"sk-container-id-6\" class=\"sk-top-container\"><div class=\"sk-text-repr-fallback\"><pre>LinearRegression()</pre><b>In a Jupyter environment, please rerun this cell to show the HTML representation or trust the notebook. <br />On GitHub, the HTML representation is unable to render, please try loading this page with nbviewer.org.</b></div><div class=\"sk-container\" hidden><div class=\"sk-item\"><div class=\"sk-estimator sk-toggleable\"><input class=\"sk-toggleable__control sk-hidden--visually\" id=\"sk-estimator-id-6\" type=\"checkbox\" checked><label for=\"sk-estimator-id-6\" class=\"sk-toggleable__label sk-toggleable__label-arrow\">LinearRegression</label><div class=\"sk-toggleable__content\"><pre>LinearRegression()</pre></div></div></div></div></div>"
      ],
      "text/plain": [
       "LinearRegression()"
      ]
     },
     "execution_count": 61,
     "metadata": {},
     "output_type": "execute_result"
    }
   ],
   "source": [
    "x = New_data[['TV9']]\n",
    "y = New_data.sales\n",
    "\n",
    "from sklearn.linear_model import LinearRegression\n",
    "\n",
    "lm = LinearRegression()\n",
    "\n",
    "lm.fit(x,y)"
   ]
  },
  {
   "cell_type": "code",
   "execution_count": 62,
   "id": "f6a01d34",
   "metadata": {},
   "outputs": [
    {
     "name": "stdout",
     "output_type": "stream",
     "text": [
      "12.049949030313478\n",
      "[0.06367635]\n"
     ]
    }
   ],
   "source": [
    "print(lm.intercept_) # c\n",
    "print(lm.coef_) # m"
   ]
  },
  {
   "cell_type": "code",
   "execution_count": 63,
   "id": "72d88991",
   "metadata": {},
   "outputs": [
    {
     "data": {
      "text/plain": [
       "15.233749"
      ]
     },
     "execution_count": 63,
     "metadata": {},
     "output_type": "execute_result"
    }
   ],
   "source": [
    "12.049949 + 0.063676*50"
   ]
  },
  {
   "cell_type": "code",
   "execution_count": 64,
   "id": "989a7acf",
   "metadata": {},
   "outputs": [
    {
     "name": "stderr",
     "output_type": "stream",
     "text": [
      "C:\\Users\\singh\\anaconda3\\Lib\\site-packages\\sklearn\\base.py:464: UserWarning: X does not have valid feature names, but LinearRegression was fitted with feature names\n",
      "  warnings.warn(\n"
     ]
    },
    {
     "data": {
      "text/plain": [
       "array([15.23376665])"
      ]
     },
     "execution_count": 64,
     "metadata": {},
     "output_type": "execute_result"
    }
   ],
   "source": [
    "lm.predict([[50]])"
   ]
  },
  {
   "cell_type": "code",
   "execution_count": 65,
   "id": "0d3e6c25",
   "metadata": {},
   "outputs": [],
   "source": [
    "from sklearn.metrics import r2_score"
   ]
  },
  {
   "cell_type": "code",
   "execution_count": 66,
   "id": "09ae7c1c",
   "metadata": {},
   "outputs": [],
   "source": [
    "predicted_sales_TV9 = lm.predict(x)"
   ]
  },
  {
   "cell_type": "code",
   "execution_count": 67,
   "id": "9653cc3d",
   "metadata": {},
   "outputs": [
    {
     "data": {
      "text/html": [
       "<div>\n",
       "<style scoped>\n",
       "    .dataframe tbody tr th:only-of-type {\n",
       "        vertical-align: middle;\n",
       "    }\n",
       "\n",
       "    .dataframe tbody tr th {\n",
       "        vertical-align: top;\n",
       "    }\n",
       "\n",
       "    .dataframe thead th {\n",
       "        text-align: right;\n",
       "    }\n",
       "</style>\n",
       "<table border=\"1\" class=\"dataframe\">\n",
       "  <thead>\n",
       "    <tr style=\"text-align: right;\">\n",
       "      <th></th>\n",
       "      <th>TV9</th>\n",
       "    </tr>\n",
       "  </thead>\n",
       "  <tbody>\n",
       "    <tr>\n",
       "      <th>0</th>\n",
       "      <td>75.0</td>\n",
       "    </tr>\n",
       "    <tr>\n",
       "      <th>1</th>\n",
       "      <td>23.5</td>\n",
       "    </tr>\n",
       "    <tr>\n",
       "      <th>2</th>\n",
       "      <td>11.6</td>\n",
       "    </tr>\n",
       "    <tr>\n",
       "      <th>3</th>\n",
       "      <td>1.0</td>\n",
       "    </tr>\n",
       "    <tr>\n",
       "      <th>4</th>\n",
       "      <td>21.2</td>\n",
       "    </tr>\n",
       "  </tbody>\n",
       "</table>\n",
       "</div>"
      ],
      "text/plain": [
       "    TV9\n",
       "0  75.0\n",
       "1  23.5\n",
       "2  11.6\n",
       "3   1.0\n",
       "4  21.2"
      ]
     },
     "execution_count": 67,
     "metadata": {},
     "output_type": "execute_result"
    }
   ],
   "source": [
    "x.head()"
   ]
  },
  {
   "cell_type": "code",
   "execution_count": 68,
   "id": "7eb821a5",
   "metadata": {},
   "outputs": [
    {
     "data": {
      "text/plain": [
       "array([16.82567545, 13.54634331, 12.78859472, 12.11362538, 13.3998877 ,\n",
       "       13.59091676, 12.30465444, 16.24622065, 12.50841877, 14.97906124,\n",
       "       15.41842807, 19.30905319, 15.60308949, 13.21522628, 13.26616736,\n",
       "       15.45026624, 13.54634331, 15.20829611, 13.71826946, 13.21522628,\n",
       "       13.2916379 , 12.85227107, 13.5081375 , 13.5081375 , 14.6479442 ,\n",
       "       14.80076745, 14.50785623, 13.9602396 , 12.06905194, 12.52115404,\n",
       "       12.59119802, 12.36833079, 14.95995833, 14.284989  , 14.0875923 ,\n",
       "       14.06212176, 14.51422386, 12.16456646, 13.73100473, 14.80713509,\n",
       "       14.05575413, 14.32319481, 13.22796155, 15.22739901, 14.3932388 ,\n",
       "       12.64213911, 13.41262297, 15.5330455 , 13.78831345, 12.58483039,\n",
       "       13.89019561, 12.10725775, 12.19003701, 12.69944782, 12.75038891,\n",
       "       13.78194581, 14.51422386, 14.0684894 , 13.27890263, 14.04301886,\n",
       "       12.88410925, 17.74261493, 13.36804952, 12.95415323, 12.64850674,\n",
       "       13.52087277, 13.46993169, 14.39960643, 14.11943048, 14.31682717,\n",
       "       14.20220974, 16.23348538, 13.06877067, 16.0742945 , 16.72379329,\n",
       "       15.32291354, 12.64213911, 14.15126866, 15.80685382, 16.6537493 ,\n",
       "       12.74402127, 15.41842807, 12.42563951, 13.45082878, 15.31017827,\n",
       "       14.9726936 , 15.22103138, 18.47489298, 13.41262297, 13.18975574,\n",
       "       12.3874337 , 15.80685382, 13.94113669, 13.5272404 , 13.68006365,\n",
       "       12.40016897, 14.24678319, 15.4056928 , 13.68006365, 12.99235904,\n",
       "       17.09311613, 13.46993169, 12.25371336, 14.79439981, 12.6039333 ,\n",
       "       14.78803218, 12.18366937, 14.92175252, 16.22711774, 12.59119802,\n",
       "       12.64213911, 15.85142726, 13.35531425, 12.15819883, 12.87137398,\n",
       "       16.86388127, 14.46328278, 14.24041555, 14.52695914, 12.6230362 ,\n",
       "       12.6039333 , 14.87081144, 12.80769762, 13.36168189, 14.40597407,\n",
       "       15.15098739, 12.95415323, 12.52115404, 12.39380133, 17.44970371,\n",
       "       13.42535824, 13.28527027, 15.71770692, 12.45747769, 13.22159391,\n",
       "       15.06820813, 13.13244702, 12.86500634, 12.88410925, 14.71162056,\n",
       "       13.34257898, 14.29135663, 13.55907858, 13.17065283, 12.57846275,\n",
       "       13.79468108, 13.94113669, 16.62191113, 13.9602396 , 13.29800554,\n",
       "       13.74374   , 13.20885864, 12.28555153, 13.53997567, 12.41927187,\n",
       "       12.43200714, 14.06212176, 12.2791839 , 12.43200714, 12.92868269,\n",
       "       12.56572748, 12.45747769, 16.26532355, 12.6039333 , 12.64213911,\n",
       "       14.15126866, 15.80685382, 16.6537493 , 12.74402127, 15.41842807,\n",
       "       12.42563951, 13.45082878, 15.31017827, 14.9726936 , 15.22103138,\n",
       "       18.47489298, 13.41262297, 13.18975574, 12.3874337 , 15.80685382,\n",
       "       13.94113669, 13.5272404 , 13.68006365, 12.40016897, 15.64766294,\n",
       "       13.5272404 , 12.20277228, 12.731286  , 14.24678319, 15.4056928 ,\n",
       "       13.68006365, 12.99235904, 17.09311613, 13.46993169, 14.99179651,\n",
       "       15.25923719, 13.04330013, 12.8395358 , 16.77473437, 13.69916656,\n",
       "       15.27197246, 12.25371336, 14.79439981, 12.6039333 , 14.78803218,\n",
       "       12.18366937, 14.92175252, 16.22711774, 12.59119802, 12.64213911,\n",
       "       15.85142726, 13.35531425, 12.15819883, 12.87137398, 16.86388127,\n",
       "       14.46328278, 14.24041555, 14.52695914, 12.6230362 , 12.6039333 ,\n",
       "       14.87081144, 12.80769762, 13.36168189, 14.40597407, 15.15098739,\n",
       "       12.95415323, 14.45054751, 12.65487438, 12.41290424, 15.26560482,\n",
       "       13.59728439, 14.92812015, 14.25315082, 14.00481305, 15.1891932 ,\n",
       "       13.68006365, 12.52115404, 12.39380133, 17.44970371, 13.42535824,\n",
       "       13.28527027, 15.71770692, 12.45747769, 13.22159391, 15.06820813,\n",
       "       13.13244702, 12.86500634, 12.88410925, 14.71162056, 13.34257898,\n",
       "       14.29135663, 13.55907858, 13.17065283, 12.57846275, 13.79468108,\n",
       "       13.94113669, 16.62191113, 13.9602396 , 13.29800554, 13.74374   ,\n",
       "       13.20885864, 12.28555153, 13.53997567, 12.41927187, 12.43200714,\n",
       "       14.06212176, 12.2791839 , 12.43200714, 12.92868269, 12.56572748,\n",
       "       12.45747769, 16.26532355, 12.6039333 , 13.9602396 , 13.29800554,\n",
       "       13.74374   , 13.20885864, 12.28555153, 13.53997567, 12.41927187,\n",
       "       12.43200714, 14.06212176])"
      ]
     },
     "execution_count": 68,
     "metadata": {},
     "output_type": "execute_result"
    }
   ],
   "source": [
    "predicted_sales_TV9"
   ]
  },
  {
   "cell_type": "code",
   "execution_count": 69,
   "id": "46727651",
   "metadata": {},
   "outputs": [
    {
     "data": {
      "text/plain": [
       "0.06896353910098074"
      ]
     },
     "execution_count": 69,
     "metadata": {},
     "output_type": "execute_result"
    }
   ],
   "source": [
    "r2_score(y_true=y, y_pred=predicted_sales_TV9)"
   ]
  },
  {
   "cell_type": "code",
   "execution_count": 70,
   "id": "4ed13a0d",
   "metadata": {},
   "outputs": [
    {
     "data": {
      "text/html": [
       "<style>#sk-container-id-7 {color: black;}#sk-container-id-7 pre{padding: 0;}#sk-container-id-7 div.sk-toggleable {background-color: white;}#sk-container-id-7 label.sk-toggleable__label {cursor: pointer;display: block;width: 100%;margin-bottom: 0;padding: 0.3em;box-sizing: border-box;text-align: center;}#sk-container-id-7 label.sk-toggleable__label-arrow:before {content: \"▸\";float: left;margin-right: 0.25em;color: #696969;}#sk-container-id-7 label.sk-toggleable__label-arrow:hover:before {color: black;}#sk-container-id-7 div.sk-estimator:hover label.sk-toggleable__label-arrow:before {color: black;}#sk-container-id-7 div.sk-toggleable__content {max-height: 0;max-width: 0;overflow: hidden;text-align: left;background-color: #f0f8ff;}#sk-container-id-7 div.sk-toggleable__content pre {margin: 0.2em;color: black;border-radius: 0.25em;background-color: #f0f8ff;}#sk-container-id-7 input.sk-toggleable__control:checked~div.sk-toggleable__content {max-height: 200px;max-width: 100%;overflow: auto;}#sk-container-id-7 input.sk-toggleable__control:checked~label.sk-toggleable__label-arrow:before {content: \"▾\";}#sk-container-id-7 div.sk-estimator input.sk-toggleable__control:checked~label.sk-toggleable__label {background-color: #d4ebff;}#sk-container-id-7 div.sk-label input.sk-toggleable__control:checked~label.sk-toggleable__label {background-color: #d4ebff;}#sk-container-id-7 input.sk-hidden--visually {border: 0;clip: rect(1px 1px 1px 1px);clip: rect(1px, 1px, 1px, 1px);height: 1px;margin: -1px;overflow: hidden;padding: 0;position: absolute;width: 1px;}#sk-container-id-7 div.sk-estimator {font-family: monospace;background-color: #f0f8ff;border: 1px dotted black;border-radius: 0.25em;box-sizing: border-box;margin-bottom: 0.5em;}#sk-container-id-7 div.sk-estimator:hover {background-color: #d4ebff;}#sk-container-id-7 div.sk-parallel-item::after {content: \"\";width: 100%;border-bottom: 1px solid gray;flex-grow: 1;}#sk-container-id-7 div.sk-label:hover label.sk-toggleable__label {background-color: #d4ebff;}#sk-container-id-7 div.sk-serial::before {content: \"\";position: absolute;border-left: 1px solid gray;box-sizing: border-box;top: 0;bottom: 0;left: 50%;z-index: 0;}#sk-container-id-7 div.sk-serial {display: flex;flex-direction: column;align-items: center;background-color: white;padding-right: 0.2em;padding-left: 0.2em;position: relative;}#sk-container-id-7 div.sk-item {position: relative;z-index: 1;}#sk-container-id-7 div.sk-parallel {display: flex;align-items: stretch;justify-content: center;background-color: white;position: relative;}#sk-container-id-7 div.sk-item::before, #sk-container-id-7 div.sk-parallel-item::before {content: \"\";position: absolute;border-left: 1px solid gray;box-sizing: border-box;top: 0;bottom: 0;left: 50%;z-index: -1;}#sk-container-id-7 div.sk-parallel-item {display: flex;flex-direction: column;z-index: 1;position: relative;background-color: white;}#sk-container-id-7 div.sk-parallel-item:first-child::after {align-self: flex-end;width: 50%;}#sk-container-id-7 div.sk-parallel-item:last-child::after {align-self: flex-start;width: 50%;}#sk-container-id-7 div.sk-parallel-item:only-child::after {width: 0;}#sk-container-id-7 div.sk-dashed-wrapped {border: 1px dashed gray;margin: 0 0.4em 0.5em 0.4em;box-sizing: border-box;padding-bottom: 0.4em;background-color: white;}#sk-container-id-7 div.sk-label label {font-family: monospace;font-weight: bold;display: inline-block;line-height: 1.2em;}#sk-container-id-7 div.sk-label-container {text-align: center;}#sk-container-id-7 div.sk-container {/* jupyter's `normalize.less` sets `[hidden] { display: none; }` but bootstrap.min.css set `[hidden] { display: none !important; }` so we also need the `!important` here to be able to override the default hidden behavior on the sphinx rendered scikit-learn.org. See: https://github.com/scikit-learn/scikit-learn/issues/21755 */display: inline-block !important;position: relative;}#sk-container-id-7 div.sk-text-repr-fallback {display: none;}</style><div id=\"sk-container-id-7\" class=\"sk-top-container\"><div class=\"sk-text-repr-fallback\"><pre>LinearRegression()</pre><b>In a Jupyter environment, please rerun this cell to show the HTML representation or trust the notebook. <br />On GitHub, the HTML representation is unable to render, please try loading this page with nbviewer.org.</b></div><div class=\"sk-container\" hidden><div class=\"sk-item\"><div class=\"sk-estimator sk-toggleable\"><input class=\"sk-toggleable__control sk-hidden--visually\" id=\"sk-estimator-id-7\" type=\"checkbox\" checked><label for=\"sk-estimator-id-7\" class=\"sk-toggleable__label sk-toggleable__label-arrow\">LinearRegression</label><div class=\"sk-toggleable__content\"><pre>LinearRegression()</pre></div></div></div></div></div>"
      ],
      "text/plain": [
       "LinearRegression()"
      ]
     },
     "execution_count": 70,
     "metadata": {},
     "output_type": "execute_result"
    }
   ],
   "source": [
    "x = New_data[['AajTak']]\n",
    "y = New_data.sales\n",
    "\n",
    "from sklearn.linear_model import LinearRegression\n",
    "\n",
    "lm = LinearRegression()\n",
    "\n",
    "lm.fit(x,y)"
   ]
  },
  {
   "cell_type": "code",
   "execution_count": 71,
   "id": "be12b46c",
   "metadata": {},
   "outputs": [
    {
     "name": "stdout",
     "output_type": "stream",
     "text": [
      "10.114047204187763\n",
      "[0.16040899]\n"
     ]
    }
   ],
   "source": [
    "print(lm.intercept_) # c\n",
    "print(lm.coef_) # m"
   ]
  },
  {
   "cell_type": "code",
   "execution_count": 72,
   "id": "1dba4cf3",
   "metadata": {},
   "outputs": [
    {
     "data": {
      "text/plain": [
       "18.134447"
      ]
     },
     "execution_count": 72,
     "metadata": {},
     "output_type": "execute_result"
    }
   ],
   "source": [
    "10.114047 + 0.160408*50"
   ]
  },
  {
   "cell_type": "code",
   "execution_count": 73,
   "id": "e0bc2106",
   "metadata": {},
   "outputs": [
    {
     "name": "stderr",
     "output_type": "stream",
     "text": [
      "C:\\Users\\singh\\anaconda3\\Lib\\site-packages\\sklearn\\base.py:464: UserWarning: X does not have valid feature names, but LinearRegression was fitted with feature names\n",
      "  warnings.warn(\n"
     ]
    },
    {
     "data": {
      "text/plain": [
       "array([18.1344969])"
      ]
     },
     "execution_count": 73,
     "metadata": {},
     "output_type": "execute_result"
    }
   ],
   "source": [
    "lm.predict([[50]])"
   ]
  },
  {
   "cell_type": "code",
   "execution_count": 74,
   "id": "01afc3aa",
   "metadata": {},
   "outputs": [],
   "source": [
    "from sklearn.metrics import r2_score"
   ]
  },
  {
   "cell_type": "code",
   "execution_count": 75,
   "id": "b1c779ef",
   "metadata": {},
   "outputs": [],
   "source": [
    "predicted_sales_AajTak = lm.predict(x)"
   ]
  },
  {
   "cell_type": "code",
   "execution_count": 76,
   "id": "c4919b84",
   "metadata": {},
   "outputs": [
    {
     "data": {
      "text/html": [
       "<div>\n",
       "<style scoped>\n",
       "    .dataframe tbody tr th:only-of-type {\n",
       "        vertical-align: middle;\n",
       "    }\n",
       "\n",
       "    .dataframe tbody tr th {\n",
       "        vertical-align: top;\n",
       "    }\n",
       "\n",
       "    .dataframe thead th {\n",
       "        text-align: right;\n",
       "    }\n",
       "</style>\n",
       "<table border=\"1\" class=\"dataframe\">\n",
       "  <thead>\n",
       "    <tr style=\"text-align: right;\">\n",
       "      <th></th>\n",
       "      <th>AajTak</th>\n",
       "    </tr>\n",
       "  </thead>\n",
       "  <tbody>\n",
       "    <tr>\n",
       "      <th>0</th>\n",
       "      <td>49.0</td>\n",
       "    </tr>\n",
       "    <tr>\n",
       "      <th>1</th>\n",
       "      <td>57.5</td>\n",
       "    </tr>\n",
       "    <tr>\n",
       "      <th>2</th>\n",
       "      <td>18.5</td>\n",
       "    </tr>\n",
       "    <tr>\n",
       "      <th>3</th>\n",
       "      <td>2.6</td>\n",
       "    </tr>\n",
       "    <tr>\n",
       "      <th>4</th>\n",
       "      <td>2.9</td>\n",
       "    </tr>\n",
       "  </tbody>\n",
       "</table>\n",
       "</div>"
      ],
      "text/plain": [
       "   AajTak\n",
       "0    49.0\n",
       "1    57.5\n",
       "2    18.5\n",
       "3     2.6\n",
       "4     2.9"
      ]
     },
     "execution_count": 76,
     "metadata": {},
     "output_type": "execute_result"
    }
   ],
   "source": [
    "x.head()"
   ]
  },
  {
   "cell_type": "code",
   "execution_count": 77,
   "id": "ad03e138",
   "metadata": {},
   "outputs": [
    {
     "data": {
      "text/plain": [
       "array([17.97408791, 19.33756436, 13.08161359, 10.53111059, 10.57923329,\n",
       "       11.68605535, 14.28468105, 15.7588397 , 11.38127826, 16.99559305,\n",
       "       19.36964616, 16.46624337, 16.46624337, 13.40243158, 13.94782216,\n",
       "       14.55737634, 10.93213307, 12.66455021, 12.8249592 , 12.13520053,\n",
       "       10.67547868, 14.81403073, 12.7928774 , 14.46113094, 12.68059111,\n",
       "       14.65362173, 12.9051637 , 10.3546607 , 13.32222708, 10.3386198 ,\n",
       "       10.77172408, 17.13996114, 18.03825151, 14.39696734, 16.16146628,\n",
       "       13.69116777, 15.4717076 , 14.55737634, 11.46148275, 14.23655835,\n",
       "       13.72324957, 11.70209624, 16.77102045, 12.64850931, 11.99083243,\n",
       "       14.84611253, 10.43486519, 16.96351125, 12.60038661, 14.86215343,\n",
       "       16.97955215, 11.60585085, 16.99559305, 19.36964616, 16.46624337,\n",
       "       16.46624337, 13.40243158, 13.94782216, 14.55737634, 11.02837847,\n",
       "       14.06010846, 17.12392024, 10.37070159, 14.68570353, 14.91027612,\n",
       "       11.34919646, 14.39696734, 10.77172408, 13.37034978, 17.25224744,\n",
       "       17.01163394, 13.06557269, 14.52529454, 16.62665236, 14.20447655,\n",
       "       17.78159712, 10.90005127, 10.3546607 , 15.4877485 , 15.96897548,\n",
       "       12.35977312, 15.18297141, 10.67547868, 13.48263608, 16.89934765,\n",
       "       16.80310225, 10.80380588, 15.93689369, 11.73417804, 12.8730819 ,\n",
       "       15.6160757 , 17.55702452, 11.87854614, 10.1621699 , 10.1782108 ,\n",
       "       14.42904914, 17.62118812, 15.72836199, 12.40789582, 10.2423744 ,\n",
       "       16.03313908, 12.68059111, 17.97408791, 12.03895513, 16.46624337,\n",
       "       10.57923329, 14.47717184, 15.4877485 , 16.30583437, 17.65326992,\n",
       "       16.36999797, 14.74986713, 14.26864015, 17.15600204, 12.8410001 ,\n",
       "       15.79252559, 15.4396258 , 11.02837847, 12.48810031, 10.41882429,\n",
       "       11.28503286, 17.97408791, 16.57852966, 14.25259925, 12.34373222,\n",
       "       11.46148275, 13.85157676, 16.01709818, 12.47205942, 10.65943778,\n",
       "       16.14542538, 10.94817397, 13.89969946, 11.81438254, 11.97479153,\n",
       "       13.46659518, 13.33826798, 11.25295106, 10.65943778, 17.95804701,\n",
       "       14.95839882, 11.36523736, 10.48298789, 11.71813714, 10.53111059,\n",
       "       10.98025577, 11.02837847, 17.01163394, 13.53075878, 17.34849283,\n",
       "       10.45090609, 14.71778533, 12.34373222, 12.05499603, 16.70685686,\n",
       "       11.84646434, 10.77172408, 16.85122495, 15.82460739, 10.70756048,\n",
       "       10.90005127, 11.60585085, 16.85122495, 11.49356455, 10.90005127,\n",
       "       10.3546607 , 15.4877485 , 15.96897548, 12.35977312, 15.18297141,\n",
       "       10.67547868, 13.48263608, 16.89934765, 16.80310225, 10.80380588,\n",
       "       15.93689369, 11.73417804, 12.8730819 , 15.6160757 , 17.55702452,\n",
       "       11.87854614, 10.1621699 , 10.1782108 , 14.42904914, 11.42940095,\n",
       "       16.20958897, 12.58434571, 13.41847248, 17.62118812, 15.72836199,\n",
       "       12.40789582, 10.2423744 , 16.03313908, 12.68059111, 14.41300824,\n",
       "       13.59492237, 10.49902879, 15.6641984 , 15.29525771, 12.00687333,\n",
       "       16.35395707, 17.97408791, 12.03895513, 16.46624337, 10.57923329,\n",
       "       14.47717184, 15.4877485 , 16.30583437, 17.65326992, 16.36999797,\n",
       "       14.74986713, 14.26864015, 17.15600204, 12.8410001 , 13.11369539,\n",
       "       16.45020247, 22.22492625, 12.8730819 , 10.41882429, 11.28503286,\n",
       "       17.97408791, 16.57852966, 14.25259925, 12.34373222, 11.46148275,\n",
       "       13.85157676, 16.48228426, 13.49867698, 11.97479153, 17.09183844,\n",
       "       10.3225789 , 16.03313908, 13.06557269, 13.01744999, 15.85668919,\n",
       "       13.01744999, 16.01709818, 12.47205942, 10.65943778, 16.14542538,\n",
       "       10.94817397, 13.89969946, 11.81438254, 11.97479153, 13.46659518,\n",
       "       13.33826798, 11.25295106, 10.65943778, 17.95804701, 14.95839882,\n",
       "       11.36523736, 10.48298789, 11.71813714, 10.53111059, 10.98025577,\n",
       "       11.02837847, 17.01163394, 13.53075878, 17.34849283, 10.45090609,\n",
       "       14.71778533, 12.34373222, 12.05499603, 16.70685686, 11.84646434,\n",
       "       10.77172408, 16.85122495, 15.82460739, 13.11369539, 16.45020247,\n",
       "       22.22492625, 12.8730819 , 11.49356455, 13.53075878, 17.34849283,\n",
       "       10.45090609, 14.71778533, 12.34373222, 13.11369539, 16.45020247,\n",
       "       22.22492625, 12.8730819 ])"
      ]
     },
     "execution_count": 77,
     "metadata": {},
     "output_type": "execute_result"
    }
   ],
   "source": [
    "predicted_sales_AajTak"
   ]
  },
  {
   "cell_type": "code",
   "execution_count": 78,
   "id": "5c3df8bc",
   "metadata": {},
   "outputs": [
    {
     "data": {
      "text/plain": [
       "0.23967715425621527"
      ]
     },
     "execution_count": 78,
     "metadata": {},
     "output_type": "execute_result"
    }
   ],
   "source": [
    "r2_score(y_true=y, y_pred=predicted_sales_AajTak)"
   ]
  },
  {
   "cell_type": "code",
   "execution_count": 79,
   "id": "2cfc3684",
   "metadata": {},
   "outputs": [
    {
     "data": {
      "text/plain": [
       "0.8966626160796345"
      ]
     },
     "execution_count": 79,
     "metadata": {},
     "output_type": "execute_result"
    }
   ],
   "source": [
    "x = New_data[['Republic','NDTV','TV5','TV9','AajTak']]\n",
    "y = New_data.sales\n",
    "\n",
    "lm.fit(x,y)\n",
    "\n",
    "predicted_sales_All = lm.predict(x)\n",
    "r2_score(y,predicted_sales_All)"
   ]
  },
  {
   "cell_type": "code",
   "execution_count": null,
   "id": "ee779710",
   "metadata": {},
   "outputs": [],
   "source": []
  }
 ],
 "metadata": {
  "kernelspec": {
   "display_name": "Python 3 (ipykernel)",
   "language": "python",
   "name": "python3"
  },
  "language_info": {
   "codemirror_mode": {
    "name": "ipython",
    "version": 3
   },
   "file_extension": ".py",
   "mimetype": "text/x-python",
   "name": "python",
   "nbconvert_exporter": "python",
   "pygments_lexer": "ipython3",
   "version": "3.11.5"
  }
 },
 "nbformat": 4,
 "nbformat_minor": 5
}
